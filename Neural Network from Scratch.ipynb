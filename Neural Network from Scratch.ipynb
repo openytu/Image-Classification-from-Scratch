{
 "cells": [
  {
   "cell_type": "code",
   "execution_count": 1,
   "id": "be39a7c0",
   "metadata": {},
   "outputs": [],
   "source": [
    "import numpy as np\n",
    "import pandas as pd\n",
    "import matplotlib.pyplot as plt"
   ]
  },
  {
   "cell_type": "code",
   "execution_count": 2,
   "id": "ae75c227",
   "metadata": {},
   "outputs": [],
   "source": [
    "data=pd.read_csv(\"verisetleri/train.csv\")"
   ]
  },
  {
   "cell_type": "code",
   "execution_count": 3,
   "id": "c0a3020d",
   "metadata": {},
   "outputs": [
    {
     "data": {
      "text/html": [
       "<div>\n",
       "<style scoped>\n",
       "    .dataframe tbody tr th:only-of-type {\n",
       "        vertical-align: middle;\n",
       "    }\n",
       "\n",
       "    .dataframe tbody tr th {\n",
       "        vertical-align: top;\n",
       "    }\n",
       "\n",
       "    .dataframe thead th {\n",
       "        text-align: right;\n",
       "    }\n",
       "</style>\n",
       "<table border=\"1\" class=\"dataframe\">\n",
       "  <thead>\n",
       "    <tr style=\"text-align: right;\">\n",
       "      <th></th>\n",
       "      <th>label</th>\n",
       "      <th>pixel0</th>\n",
       "      <th>pixel1</th>\n",
       "      <th>pixel2</th>\n",
       "      <th>pixel3</th>\n",
       "      <th>pixel4</th>\n",
       "      <th>pixel5</th>\n",
       "      <th>pixel6</th>\n",
       "      <th>pixel7</th>\n",
       "      <th>pixel8</th>\n",
       "      <th>...</th>\n",
       "      <th>pixel774</th>\n",
       "      <th>pixel775</th>\n",
       "      <th>pixel776</th>\n",
       "      <th>pixel777</th>\n",
       "      <th>pixel778</th>\n",
       "      <th>pixel779</th>\n",
       "      <th>pixel780</th>\n",
       "      <th>pixel781</th>\n",
       "      <th>pixel782</th>\n",
       "      <th>pixel783</th>\n",
       "    </tr>\n",
       "  </thead>\n",
       "  <tbody>\n",
       "    <tr>\n",
       "      <th>0</th>\n",
       "      <td>1</td>\n",
       "      <td>0</td>\n",
       "      <td>0</td>\n",
       "      <td>0</td>\n",
       "      <td>0</td>\n",
       "      <td>0</td>\n",
       "      <td>0</td>\n",
       "      <td>0</td>\n",
       "      <td>0</td>\n",
       "      <td>0</td>\n",
       "      <td>...</td>\n",
       "      <td>0</td>\n",
       "      <td>0</td>\n",
       "      <td>0</td>\n",
       "      <td>0</td>\n",
       "      <td>0</td>\n",
       "      <td>0</td>\n",
       "      <td>0</td>\n",
       "      <td>0</td>\n",
       "      <td>0</td>\n",
       "      <td>0</td>\n",
       "    </tr>\n",
       "    <tr>\n",
       "      <th>1</th>\n",
       "      <td>0</td>\n",
       "      <td>0</td>\n",
       "      <td>0</td>\n",
       "      <td>0</td>\n",
       "      <td>0</td>\n",
       "      <td>0</td>\n",
       "      <td>0</td>\n",
       "      <td>0</td>\n",
       "      <td>0</td>\n",
       "      <td>0</td>\n",
       "      <td>...</td>\n",
       "      <td>0</td>\n",
       "      <td>0</td>\n",
       "      <td>0</td>\n",
       "      <td>0</td>\n",
       "      <td>0</td>\n",
       "      <td>0</td>\n",
       "      <td>0</td>\n",
       "      <td>0</td>\n",
       "      <td>0</td>\n",
       "      <td>0</td>\n",
       "    </tr>\n",
       "    <tr>\n",
       "      <th>2</th>\n",
       "      <td>1</td>\n",
       "      <td>0</td>\n",
       "      <td>0</td>\n",
       "      <td>0</td>\n",
       "      <td>0</td>\n",
       "      <td>0</td>\n",
       "      <td>0</td>\n",
       "      <td>0</td>\n",
       "      <td>0</td>\n",
       "      <td>0</td>\n",
       "      <td>...</td>\n",
       "      <td>0</td>\n",
       "      <td>0</td>\n",
       "      <td>0</td>\n",
       "      <td>0</td>\n",
       "      <td>0</td>\n",
       "      <td>0</td>\n",
       "      <td>0</td>\n",
       "      <td>0</td>\n",
       "      <td>0</td>\n",
       "      <td>0</td>\n",
       "    </tr>\n",
       "    <tr>\n",
       "      <th>3</th>\n",
       "      <td>4</td>\n",
       "      <td>0</td>\n",
       "      <td>0</td>\n",
       "      <td>0</td>\n",
       "      <td>0</td>\n",
       "      <td>0</td>\n",
       "      <td>0</td>\n",
       "      <td>0</td>\n",
       "      <td>0</td>\n",
       "      <td>0</td>\n",
       "      <td>...</td>\n",
       "      <td>0</td>\n",
       "      <td>0</td>\n",
       "      <td>0</td>\n",
       "      <td>0</td>\n",
       "      <td>0</td>\n",
       "      <td>0</td>\n",
       "      <td>0</td>\n",
       "      <td>0</td>\n",
       "      <td>0</td>\n",
       "      <td>0</td>\n",
       "    </tr>\n",
       "    <tr>\n",
       "      <th>4</th>\n",
       "      <td>0</td>\n",
       "      <td>0</td>\n",
       "      <td>0</td>\n",
       "      <td>0</td>\n",
       "      <td>0</td>\n",
       "      <td>0</td>\n",
       "      <td>0</td>\n",
       "      <td>0</td>\n",
       "      <td>0</td>\n",
       "      <td>0</td>\n",
       "      <td>...</td>\n",
       "      <td>0</td>\n",
       "      <td>0</td>\n",
       "      <td>0</td>\n",
       "      <td>0</td>\n",
       "      <td>0</td>\n",
       "      <td>0</td>\n",
       "      <td>0</td>\n",
       "      <td>0</td>\n",
       "      <td>0</td>\n",
       "      <td>0</td>\n",
       "    </tr>\n",
       "  </tbody>\n",
       "</table>\n",
       "<p>5 rows × 785 columns</p>\n",
       "</div>"
      ],
      "text/plain": [
       "   label  pixel0  pixel1  pixel2  pixel3  pixel4  pixel5  pixel6  pixel7  \\\n",
       "0      1       0       0       0       0       0       0       0       0   \n",
       "1      0       0       0       0       0       0       0       0       0   \n",
       "2      1       0       0       0       0       0       0       0       0   \n",
       "3      4       0       0       0       0       0       0       0       0   \n",
       "4      0       0       0       0       0       0       0       0       0   \n",
       "\n",
       "   pixel8  ...  pixel774  pixel775  pixel776  pixel777  pixel778  pixel779  \\\n",
       "0       0  ...         0         0         0         0         0         0   \n",
       "1       0  ...         0         0         0         0         0         0   \n",
       "2       0  ...         0         0         0         0         0         0   \n",
       "3       0  ...         0         0         0         0         0         0   \n",
       "4       0  ...         0         0         0         0         0         0   \n",
       "\n",
       "   pixel780  pixel781  pixel782  pixel783  \n",
       "0         0         0         0         0  \n",
       "1         0         0         0         0  \n",
       "2         0         0         0         0  \n",
       "3         0         0         0         0  \n",
       "4         0         0         0         0  \n",
       "\n",
       "[5 rows x 785 columns]"
      ]
     },
     "execution_count": 3,
     "metadata": {},
     "output_type": "execute_result"
    }
   ],
   "source": [
    "data.head()"
   ]
  },
  {
   "cell_type": "code",
   "execution_count": 4,
   "id": "27934c37",
   "metadata": {},
   "outputs": [],
   "source": [
    "data=np.array(data)\n",
    "m, n= data.shape\n",
    "np.random.shuffle(data)\n",
    "\n",
    "data_dev=data[0:1000].T\n",
    "Y_dev=data_dev[0]\n",
    "X_dev=data_dev[1:n]\n",
    "X_dev = X_dev / 255.\n",
    "\n",
    "data_train=data[1000:m].T\n",
    "Y_train=data_train[0]\n",
    "X_train=data_train[1:n]\n",
    "X_train = X_train / 255.\n",
    "_,m_train = X_train.shape"
   ]
  },
  {
   "cell_type": "code",
   "execution_count": 5,
   "id": "ced96caa",
   "metadata": {},
   "outputs": [],
   "source": [
    "def init_params():\n",
    "    w1=np.random.rand(10,784)-0.5\n",
    "    b1=np.random.rand(10,1)-0.5\n",
    "    w2=np.random.rand(10,10)-0.5\n",
    "    b2=np.random.rand(10,1)-0.5\n",
    "    return w1, b1, w2, b2"
   ]
  },
  {
   "cell_type": "code",
   "execution_count": 6,
   "id": "0a81a112",
   "metadata": {},
   "outputs": [],
   "source": [
    "def ReLU(Z):\n",
    "    return np.maximum(Z, 0)"
   ]
  },
  {
   "cell_type": "code",
   "execution_count": 7,
   "id": "5661ee9e",
   "metadata": {},
   "outputs": [],
   "source": [
    "def softmax(Z):\n",
    "    A=np.exp(Z) / sum(np.exp(Z))\n",
    "    return A"
   ]
  },
  {
   "cell_type": "code",
   "execution_count": 8,
   "id": "323f513b",
   "metadata": {},
   "outputs": [],
   "source": [
    "def forward_prop(w1, b1, w2, b2, X):\n",
    "    z1=w1.dot(X)+b1\n",
    "    a1=ReLU(z1)\n",
    "    z2=w2.dot(a1)+b2\n",
    "    a2=softmax(z2)\n",
    "    return z1, a1, z2, a2"
   ]
  },
  {
   "cell_type": "code",
   "execution_count": 9,
   "id": "f6e316ad",
   "metadata": {},
   "outputs": [],
   "source": [
    "def one_hot(Y):\n",
    "    one_hot_Y = np.zeros((Y.size, Y.max() + 1))\n",
    "    one_hot_Y[np.arange(Y.size), Y] = 1\n",
    "    one_hot_Y = one_hot_Y.T\n",
    "    return one_hot_Y"
   ]
  },
  {
   "cell_type": "code",
   "execution_count": 10,
   "id": "135a7915",
   "metadata": {},
   "outputs": [],
   "source": [
    "def deriv_ReLU(Z):\n",
    "    return Z>0"
   ]
  },
  {
   "cell_type": "code",
   "execution_count": 11,
   "id": "7fc227b0",
   "metadata": {},
   "outputs": [],
   "source": [
    "def back_prop(z1, a1, z2, a2, w2, Y, X):\n",
    "    OneHot_Y=one_hot(Y)\n",
    "    dZ2=a2-OneHot_Y\n",
    "    dW2=1/m * dZ2.dot(a1.T)\n",
    "    db2=1/m * np.sum(dZ2)\n",
    "    dZ1=w2.T.dot(dZ2)*deriv_ReLU(z1)\n",
    "    dW1=1/m * dZ1.dot(X.T)\n",
    "    db1=1/m * np.sum(dZ1)\n",
    "    return dW1, db1, dW2, db2"
   ]
  },
  {
   "cell_type": "code",
   "execution_count": 12,
   "id": "094277e6",
   "metadata": {},
   "outputs": [],
   "source": [
    "def update_params(W1, b1, W2, b2, dW1, db1, dW2, db2, alpha):\n",
    "    W1=W1-alpha*dW1\n",
    "    b1=b1-alpha*db1\n",
    "    W2=W2-alpha*dW2\n",
    "    b2=b2-alpha*db2\n",
    "    return W1, b1, W2, b2"
   ]
  },
  {
   "cell_type": "code",
   "execution_count": 13,
   "id": "7b671953",
   "metadata": {},
   "outputs": [],
   "source": [
    "def get_predictions(a2):\n",
    "    return np.argmax(a2,0)"
   ]
  },
  {
   "cell_type": "code",
   "execution_count": 14,
   "id": "f7f80154",
   "metadata": {},
   "outputs": [],
   "source": [
    "def get_accuracy(predictions, Y):\n",
    "    print(predictions, Y)\n",
    "    return np.sum(predictions == Y)/Y.size"
   ]
  },
  {
   "cell_type": "code",
   "execution_count": 15,
   "id": "1efad1c0",
   "metadata": {},
   "outputs": [],
   "source": [
    "def gradient_descent(X, Y, iterations, alpha):\n",
    "    w1, b1, w2, b2=init_params()\n",
    "    for i in range(iterations):\n",
    "        z1, a1, z2, a2 =forward_prop(w1, b1, w2, b2, X)\n",
    "        dW1, db1, dW2, db2 = back_prop(z1, a1, z2, a2, w2, Y, X)\n",
    "        w1, b1, w2, b2 = update_params(w1, b1, w2, b2, dW1, db1, dW2, db2, alpha)\n",
    "        if i%10==0:\n",
    "            print(\"iterations: \",i)\n",
    "            print(\"accuracy: \",get_accuracy(get_predictions(a2),Y))\n",
    "    return w1, b1, w2, b2"
   ]
  },
  {
   "cell_type": "code",
   "execution_count": 18,
   "id": "f9ae6e44",
   "metadata": {},
   "outputs": [
    {
     "name": "stdout",
     "output_type": "stream",
     "text": [
      "iterations:  0\n",
      "[8 1 8 ... 4 1 9] [7 2 4 ... 8 1 4]\n",
      "accuracy:  0.094\n",
      "iterations:  10\n",
      "[8 0 8 ... 2 1 6] [7 2 4 ... 8 1 4]\n",
      "accuracy:  0.20709756097560975\n",
      "iterations:  20\n",
      "[9 6 8 ... 2 1 6] [7 2 4 ... 8 1 4]\n",
      "accuracy:  0.3098780487804878\n",
      "iterations:  30\n",
      "[7 6 8 ... 2 1 4] [7 2 4 ... 8 1 4]\n",
      "accuracy:  0.4143170731707317\n",
      "iterations:  40\n",
      "[7 6 8 ... 1 1 4] [7 2 4 ... 8 1 4]\n",
      "accuracy:  0.4943170731707317\n",
      "iterations:  50\n",
      "[7 6 8 ... 1 1 4] [7 2 4 ... 8 1 4]\n",
      "accuracy:  0.5549268292682927\n",
      "iterations:  60\n",
      "[7 2 8 ... 1 1 4] [7 2 4 ... 8 1 4]\n",
      "accuracy:  0.5955121951219512\n",
      "iterations:  70\n",
      "[7 2 8 ... 1 1 4] [7 2 4 ... 8 1 4]\n",
      "accuracy:  0.6267560975609756\n",
      "iterations:  80\n",
      "[7 2 7 ... 1 1 4] [7 2 4 ... 8 1 4]\n",
      "accuracy:  0.6522682926829269\n",
      "iterations:  90\n",
      "[7 2 9 ... 1 1 4] [7 2 4 ... 8 1 4]\n",
      "accuracy:  0.6729512195121952\n",
      "iterations:  100\n",
      "[7 2 9 ... 1 1 4] [7 2 4 ... 8 1 4]\n",
      "accuracy:  0.6906829268292682\n",
      "iterations:  110\n",
      "[7 2 9 ... 1 1 4] [7 2 4 ... 8 1 4]\n",
      "accuracy:  0.7046097560975609\n",
      "iterations:  120\n",
      "[7 2 9 ... 1 1 4] [7 2 4 ... 8 1 4]\n",
      "accuracy:  0.7174878048780488\n",
      "iterations:  130\n",
      "[7 2 9 ... 1 1 4] [7 2 4 ... 8 1 4]\n",
      "accuracy:  0.7287560975609756\n",
      "iterations:  140\n",
      "[7 2 9 ... 1 1 4] [7 2 4 ... 8 1 4]\n",
      "accuracy:  0.739609756097561\n",
      "iterations:  150\n",
      "[7 2 9 ... 1 1 4] [7 2 4 ... 8 1 4]\n",
      "accuracy:  0.7490975609756098\n",
      "iterations:  160\n",
      "[7 2 9 ... 1 1 4] [7 2 4 ... 8 1 4]\n",
      "accuracy:  0.7578536585365854\n",
      "iterations:  170\n",
      "[7 2 4 ... 1 1 4] [7 2 4 ... 8 1 4]\n",
      "accuracy:  0.766\n",
      "iterations:  180\n",
      "[7 2 4 ... 1 1 4] [7 2 4 ... 8 1 4]\n",
      "accuracy:  0.7729024390243903\n",
      "iterations:  190\n",
      "[7 2 4 ... 1 1 4] [7 2 4 ... 8 1 4]\n",
      "accuracy:  0.7792439024390244\n"
     ]
    }
   ],
   "source": [
    "w1, b1, w2, b2=gradient_descent(X_train, Y_train, 200, 0.1)"
   ]
  },
  {
   "cell_type": "code",
   "execution_count": 19,
   "id": "97d80641",
   "metadata": {},
   "outputs": [],
   "source": [
    "def make_predictions(X, W1, b1, W2, b2):\n",
    "    _, _, _, A2 = forward_prop(W1, b1, W2, b2, X)\n",
    "    predictions = get_predictions(A2)\n",
    "    return predictions"
   ]
  },
  {
   "cell_type": "code",
   "execution_count": 20,
   "id": "8b545efd",
   "metadata": {},
   "outputs": [],
   "source": [
    "def test_prediction(index, w1, b1,w2,b2):\n",
    "    current_image = X_train[:, index, None]\n",
    "    prediction = make_predictions(X_train[:, index, None], w1,b1,w2,b2)\n",
    "    label = Y_train[index]\n",
    "\n",
    "    print(\"Prediction: \", prediction)\n",
    "    print(\"Label: \", label)\n",
    "\n",
    "    current_image = current_image.reshape((28,28)) * 255\n",
    "    plt.gray()\n",
    "    plt.imshow(current_image, interpolation=\"nearest\")\n",
    "    plt.show()"
   ]
  },
  {
   "cell_type": "code",
   "execution_count": 21,
   "id": "6bafdfc9",
   "metadata": {},
   "outputs": [
    {
     "name": "stdout",
     "output_type": "stream",
     "text": [
      "Prediction:  [7]\n",
      "Label:  7\n"
     ]
    },
    {
     "data": {
      "image/png": "[encoded data removed]",
      "text/plain": [
       "<Figure size 640x480 with 1 Axes>"
      ]
     },
     "metadata": {},
     "output_type": "display_data"
    },
    {
     "name": "stdout",
     "output_type": "stream",
     "text": [
      "Prediction:  [2]\n",
      "Label:  2\n"
     ]
    },
    {
     "data": {
      "image/png": "[encoded data removed]",
      "text/plain": [
       "<Figure size 640x480 with 1 Axes>"
      ]
     },
     "metadata": {},
     "output_type": "display_data"
    },
    {
     "name": "stdout",
     "output_type": "stream",
     "text": [
      "Prediction:  [4]\n",
      "Label:  4\n"
     ]
    },
    {
     "data": {
      "image/png": "[encoded data removed]",
      "text/plain": [
       "<Figure size 640x480 with 1 Axes>"
      ]
     },
     "metadata": {},
     "output_type": "display_data"
    },
    {
     "name": "stdout",
     "output_type": "stream",
     "text": [
      "Prediction:  [1]\n",
      "Label:  1\n"
     ]
    },
    {
     "data": {
      "image/png": "[encoded data removed]",
      "text/plain": [
       "<Figure size 640x480 with 1 Axes>"
      ]
     },
     "metadata": {},
     "output_type": "display_data"
    }
   ],
   "source": [
    "test_prediction(0, w1,b1,w2,b2)\n",
    "test_prediction(1, w1,b1,w2,b2)\n",
    "test_prediction(2, w1,b1,w2,b2)\n",
    "test_prediction(3, w1,b1,w2,b2)"
   ]
  },
  {
   "cell_type": "code",
   "execution_count": 22,
   "id": "5eaaad96",
   "metadata": {},
   "outputs": [
    {
     "name": "stdout",
     "output_type": "stream",
     "text": [
      "[2 6 6 7 3 1 2 2 6 7 8 9 5 4 5 9 6 7 4 1 5 9 8 9 7 0 0 8 2 9 0 9 1 0 3 5 1\n",
      " 6 5 4 7 0 9 0 8 5 9 4 8 2 2 9 7 2 8 6 8 6 8 2 6 0 2 8 2 3 9 7 2 7 9 6 3 3\n",
      " 0 0 3 3 7 0 7 6 3 0 9 1 9 2 3 2 6 6 7 4 5 0 4 4 9 1 9 4 5 3 5 9 8 8 8 0 1\n",
      " 3 2 3 1 9 9 1 9 1 4 1 6 1 9 8 8 4 5 7 1 6 8 1 0 2 7 2 5 2 7 1 4 1 4 6 1 0\n",
      " 5 8 2 3 6 8 1 6 4 7 4 9 9 8 1 0 7 8 2 6 2 9 7 7 4 7 8 8 1 5 5 3 0 9 1 4 9\n",
      " 8 8 5 9 9 4 9 9 2 2 6 7 2 4 4 1 7 5 3 9 0 3 7 9 7 0 1 7 8 9 9 0 2 0 5 8 9\n",
      " 0 6 3 4 8 0 6 7 3 3 8 3 7 3 1 9 4 7 3 4 0 2 1 2 1 8 2 2 9 1 3 0 4 3 2 4 1\n",
      " 9 1 8 1 1 9 9 6 6 7 9 7 1 7 3 8 9 2 9 1 1 1 6 0 0 7 2 5 7 9 1 8 0 4 3 8 9\n",
      " 1 7 6 0 0 4 9 6 6 0 2 7 0 9 4 9 4 0 7 6 9 1 4 3 3 2 5 7 0 4 2 9 1 2 4 6 7\n",
      " 7 7 4 5 4 6 7 1 5 3 7 8 0 6 1 9 6 0 9 9 0 5 8 4 9 5 1 2 8 6 5 1 0 8 2 1 4\n",
      " 7 1 1 7 3 1 8 4 9 4 2 7 9 1 9 3 6 0 1 3 8 9 2 3 8 4 0 7 0 6 7 6 4 8 4 8 7\n",
      " 9 1 5 0 3 7 6 8 8 2 7 0 7 7 3 8 0 4 1 1 4 3 6 4 2 9 5 6 2 6 9 9 5 2 7 2 5\n",
      " 8 8 4 7 5 7 8 0 1 4 3 4 9 9 4 6 6 0 7 2 1 4 9 1 7 7 3 5 6 8 2 4 0 4 0 5 8\n",
      " 2 4 5 1 0 9 9 5 0 8 4 5 8 0 8 2 4 7 5 4 0 2 8 4 3 4 6 5 2 4 0 0 9 8 3 8 9\n",
      " 6 9 2 3 3 0 7 4 4 7 1 5 4 2 3 4 4 9 0 2 6 8 8 3 5 9 8 8 2 0 3 1 7 7 7 7 1\n",
      " 7 9 4 9 4 7 1 7 1 1 4 6 5 7 7 7 2 4 9 5 8 7 6 1 9 6 7 2 4 2 1 1 8 6 0 2 2\n",
      " 5 4 4 4 5 0 9 1 0 4 7 3 9 8 3 8 0 8 2 2 9 1 0 2 3 0 3 7 8 9 1 7 7 4 4 3 7\n",
      " 2 3 6 8 1 9 0 6 7 2 1 1 8 0 5 2 5 9 7 9 7 1 3 9 5 1 9 6 2 6 7 4 6 3 7 8 1\n",
      " 3 1 6 0 0 5 2 0 2 6 0 3 4 6 5 4 8 1 7 9 1 8 8 6 7 4 3 5 9 9 6 1 4 2 7 5 0\n",
      " 0 1 3 7 1 6 1 7 1 6 6 1 3 6 0 1 0 0 6 4 4 1 5 8 1 8 6 8 1 0 1 6 8 5 7 0 7\n",
      " 5 2 6 6 0 6 9 7 5 3 6 9 8 8 6 7 0 0 7 7 7 4 4 3 3 4 0 4 2 6 2 2 3 1 3 6 6\n",
      " 9 1 0 8 6 1 3 5 3 9 4 5 6 7 2 5 0 2 0 3 9 8 9 7 7 9 0 7 8 9 2 1 3 0 1 0 8\n",
      " 1 4 9 6 7 1 4 8 1 6 1 5 1 3 1 2 0 9 7 0 8 8 8 0 4 0 5 7 7 6 5 3 8 2 7 4 3\n",
      " 4 8 0 1 7 0 1 3 6 7 8 6 2 3 3 8 0 9 1 6 6 1 8 0 3 8 2 6 6 9 7 5 8 2 0 6 2\n",
      " 9 4 6 0 5 9 5 3 8 8 2 1 1 4 0 0 2 9 0 9 2 2 6 2 6 4 6 6 1 0 1 3 7 0 3 3 1\n",
      " 3 6 9 3 7 3 4 8 3 0 7 4 2 9 8 7 5 0 2 6 0 0 1 2 0 3 2 7 1 4 5 8 6 4 6 5 6\n",
      " 2 5 0 0 9 8 5 5 8 1 2 1 2 0 7 2 4 5 5 7 0 1 1 4 0 4 9 7 9 3 9 0 5 6 8 8 5\n",
      " 7] [4 5 6 7 3 8 2 2 6 7 8 9 5 4 5 9 3 7 9 1 8 4 8 9 7 2 0 7 2 4 6 9 1 2 3 8 5\n",
      " 6 3 4 7 0 7 0 8 5 4 4 9 2 2 5 7 3 3 6 8 0 1 2 6 5 2 2 2 3 9 7 2 7 9 6 2 9\n",
      " 0 0 3 3 7 5 7 6 5 0 9 1 9 2 3 2 6 0 7 4 5 0 4 4 4 1 9 4 5 3 5 9 8 8 8 3 1\n",
      " 5 2 3 1 9 9 1 4 1 7 1 6 1 9 3 8 4 6 7 1 6 8 3 0 2 7 2 8 6 7 1 4 1 4 6 1 0\n",
      " 5 8 2 3 0 8 1 6 4 7 4 9 9 0 1 0 7 8 2 6 2 9 7 7 9 7 3 8 1 5 5 5 0 5 5 4 9\n",
      " 8 8 5 9 9 9 9 9 2 6 6 9 2 4 4 1 7 5 3 9 8 3 9 4 7 0 1 7 0 9 9 5 2 0 5 8 9\n",
      " 0 6 3 4 8 0 6 7 3 3 8 3 9 3 1 5 4 3 3 4 0 2 1 7 7 5 2 2 4 1 3 0 9 5 8 9 1\n",
      " 9 1 3 1 1 9 9 6 2 7 9 7 6 3 3 8 9 3 9 1 1 1 6 0 0 7 8 7 7 9 1 8 0 4 8 8 9\n",
      " 1 7 6 4 0 9 9 6 6 0 5 7 0 9 4 9 6 3 7 6 4 1 4 8 8 2 5 7 5 4 2 9 1 2 7 6 7\n",
      " 7 7 4 5 4 6 7 1 5 5 7 7 5 6 1 9 6 0 9 9 0 5 8 4 9 3 1 2 8 6 0 1 6 1 2 1 4\n",
      " 7 8 1 7 3 1 8 4 9 4 2 7 9 1 9 1 6 0 7 3 8 9 2 8 3 4 6 7 0 6 7 6 4 8 4 8 7\n",
      " 9 1 5 0 3 7 5 8 2 2 7 0 7 7 3 8 0 4 1 1 6 3 4 4 2 7 8 6 2 6 9 9 5 2 7 2 8\n",
      " 5 1 4 9 5 7 2 0 1 4 5 4 9 9 4 6 6 0 7 2 1 4 9 1 5 7 2 5 6 9 9 6 0 4 0 6 8\n",
      " 2 2 5 1 8 4 9 5 0 3 3 5 8 0 8 1 4 7 5 4 0 2 8 9 3 4 6 5 2 0 0 0 8 8 3 3 4\n",
      " 6 9 2 2 5 0 7 4 4 7 1 5 4 2 3 4 4 4 0 2 6 8 8 8 5 7 8 5 2 0 3 1 7 7 7 7 1\n",
      " 7 9 4 4 4 9 1 7 1 8 6 4 5 9 3 7 2 9 9 8 2 7 6 2 9 6 7 2 4 6 1 1 8 6 0 2 2\n",
      " 6 9 5 4 5 0 9 1 0 4 7 3 5 8 3 2 0 8 2 2 9 1 0 8 5 0 5 7 8 7 1 7 7 4 4 3 7\n",
      " 2 3 6 0 1 9 0 6 7 2 1 1 3 0 5 2 5 4 7 7 7 3 3 4 8 1 9 6 0 6 7 4 6 3 7 8 1\n",
      " 0 1 6 0 0 5 2 0 3 6 0 3 4 2 5 9 8 1 4 4 1 8 2 6 7 4 3 5 9 9 6 1 4 2 7 5 0\n",
      " 0 1 8 4 5 6 1 2 1 6 6 1 3 6 0 1 2 0 6 4 4 1 0 8 1 8 6 1 1 8 1 0 8 5 7 5 7\n",
      " 5 2 6 6 0 6 9 7 5 3 6 9 5 5 6 7 0 0 9 7 7 4 4 3 3 9 0 4 2 6 2 2 3 1 3 6 9\n",
      " 9 1 3 1 6 1 3 3 3 7 4 5 6 9 2 5 0 2 0 3 4 8 9 7 7 7 5 7 9 9 2 1 3 0 5 0 1\n",
      " 1 4 9 6 7 1 4 3 1 6 1 3 1 3 1 2 8 9 4 0 8 5 8 0 9 0 3 7 7 6 8 5 8 2 7 4 3\n",
      " 7 8 0 1 7 0 1 3 6 7 8 6 2 3 3 8 0 9 1 6 2 2 8 0 3 8 2 6 6 9 7 5 8 2 0 6 2\n",
      " 3 4 6 0 5 9 8 3 9 3 2 1 1 4 0 0 2 9 0 9 3 2 6 2 6 4 8 6 6 0 1 3 7 0 3 3 1\n",
      " 5 6 9 3 7 3 4 8 3 0 7 4 2 9 8 7 5 0 2 6 0 0 1 2 0 3 6 7 1 4 5 8 6 4 5 5 5\n",
      " 2 5 0 0 9 8 5 5 8 1 2 1 2 0 9 2 4 5 3 7 3 1 1 4 0 8 9 7 9 3 9 0 3 4 2 8 0\n",
      " 9]\n"
     ]
    },
    {
     "data": {
      "text/plain": [
       "0.774"
      ]
     },
     "execution_count": 22,
     "metadata": {},
     "output_type": "execute_result"
    }
   ],
   "source": [
    "dev_predictions = make_predictions(X_dev, w1,b1,w2,b2)\n",
    "get_accuracy(dev_predictions, Y_dev)"
   ]
  },
  {
   "cell_type": "code",
   "execution_count": null,
   "id": "01b8ac9c",
   "metadata": {},
   "outputs": [],
   "source": []
  },
  {
   "cell_type": "code",
   "execution_count": null,
   "id": "cbeccc7b",
   "metadata": {},
   "outputs": [],
   "source": []
  },
  {
   "cell_type": "code",
   "execution_count": null,
   "id": "fea1c54e",
   "metadata": {},
   "outputs": [],
   "source": []
  },
  {
   "cell_type": "code",
   "execution_count": null,
   "id": "299b7486",
   "metadata": {},
   "outputs": [],
   "source": []
  },
  {
   "cell_type": "code",
   "execution_count": null,
   "id": "dfb9c951",
   "metadata": {},
   "outputs": [],
   "source": []
  },
  {
   "cell_type": "code",
   "execution_count": null,
   "id": "002f52dd",
   "metadata": {},
   "outputs": [],
   "source": []
  }
 ],
 "metadata": {
  "kernelspec": {
   "display_name": "Python 3",
   "language": "python",
   "name": "python3"
  },
  "language_info": {
   "codemirror_mode": {
    "name": "ipython",
    "version": 3
   },
   "file_extension": ".py",
   "mimetype": "text/x-python",
   "name": "python",
   "nbconvert_exporter": "python",
   "pygments_lexer": "ipython3",
   "version": "3.12.5"
  }
 },
 "nbformat": 4,
 "nbformat_minor": 5
}
